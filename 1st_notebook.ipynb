{
  "nbformat": 4,
  "nbformat_minor": 0,
  "metadata": {
    "colab": {
      "provenance": []
    },
    "kernelspec": {
      "name": "python3",
      "display_name": "Python 3"
    },
    "language_info": {
      "name": "python"
    }
  },
  "cells": [
    {
      "cell_type": "code",
      "execution_count": null,
      "metadata": {
        "id": "HqLO5anK2LUg"
      },
      "outputs": [],
      "source": [
        "def convert_persian_to_english_digits(text):\n",
        "    persian_to_english = str.maketrans('۰۱۲۳۴۵۶۷۸۹', '0123456789')\n",
        "    return text.translate(persian_to_english)\n"
      ]
    },
    {
      "cell_type": "code",
      "source": [
        "formula_persian = \"۲x + ۳ = ۵\"\n",
        "normalized = convert_persian_to_english_digits(formula_persian)\n",
        "print(normalized)  # Output: 2x + 3 = 5\n"
      ],
      "metadata": {
        "colab": {
          "base_uri": "https://localhost:8080/"
        },
        "id": "jffo27e85dAR",
        "outputId": "8227e51c-2fa5-42dc-cd0a-5179fde2e2c3"
      },
      "execution_count": null,
      "outputs": [
        {
          "output_type": "stream",
          "name": "stdout",
          "text": [
            "2x + 3 = 5\n"
          ]
        }
      ]
    },
    {
      "cell_type": "code",
      "source": [],
      "metadata": {
        "id": "CxYrmVNG5lgf"
      },
      "execution_count": null,
      "outputs": []
    }
  ]
}